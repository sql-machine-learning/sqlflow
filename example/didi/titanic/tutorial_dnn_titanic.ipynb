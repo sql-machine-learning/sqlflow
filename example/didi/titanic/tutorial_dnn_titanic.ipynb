{
 "cells": [
  {
   "cell_type": "markdown",
   "metadata": {},
   "source": [
    "# Classify Titanic Dataset Using DNNClassifer\n",
    "\n",
    "This tutorial demonstrates how to\n",
    "1. train a DNNClassifer model on Titanic dataset.\n",
    "2. use the trained model to predict the class of the passenger's survival status.\n",
    "\n",
    "## The Dataset\n",
    "\n",
    "The Titanic datasets `train.csv` and `test.csv` in this directory come from [Kaggle](https://www.kaggle.com/c/titanic). The task is to predict which passengers survived the tragedy.\n",
    "\n",
    "We have used feature engineering to preprocess the raw data and create new features. Finally, we got the `train_dp.csv` and `test_dp.csv` files. The feature engineering file is `titanic_preprocessing.py` in the current directory.\n",
    "\n",
    "The Titanic dataset after preprocessed contains twenty-two features and one label. The features identify the characteristics of individual passengers on titanic. Each feature is stored as a single float number. The label indicates whether an individual passenger survival. The label is stored as an integer and has the possible value of 0, 1(1 survived, 0 deceased)\n",
    "\n",
    "The meaning of parts of columns in trainSet.csv and testSet.csv is shown as follows:\n",
    "\n",
    "Column | Explain \n",
    "-- | -- \n",
    "pclass_* |One-hot value for the “Pclass” field in the raw data.\n",
    "sex_* | One-hot value for the \"Sex\" column in the raw data.\n",
    "embarked_* | One-hot value for the “Embarked” column in the raw data.\n",
    "title_* |The title identified from the “Name” field.\n",
    "nosibsp | Constructed from the \"SibSp\" field to determine if the passenger has siblings/spouses aboard the Titanic.\n",
    "noparch | Constructed from the \"Parch\" field to determine if the passenger parents/children aboard the Titanic.\n",
    "nullcabin | Determine if the \"Cabin\" field is null（1 Yes, 0 No).\n",
    "family | Constructed from the \"Parch\" and \"SibSp\" and indicated the number of relatives of all families, including himself, siblings, spouses, parents children.\n",
    "isalone | Indicated whether the passenger is alone or not (1 Yes, 0 No).\n",
    "ismother | Indicate whether the passenger is a mother or not (1 Yes, 0 No).\n",
    "realfare | Constructed from the \"family\" and \"Fare\" fields, which reveals the actual fare price for each passenger.\n",
    "\n",
    "\n",
    "We have prepared the titanic dataset `train_dp.csv` and `test_dp.csv` into SQL table `titanic.train` and `titanic.test` separately. We will be using them as training data and test data respectively.\n",
    "\n",
    "We can have a quick peek of the data by running the following standard SQL statements."
   ]
  },
  {
   "cell_type": "code",
   "execution_count": 2,
   "metadata": {},
   "outputs": [
    {
     "data": {
      "text/plain": [
       "+--------------+---------+------+-----+---------+-------+\n",
       "|    Field     |   Type  | Null | Key | Default | Extra |\n",
       "+--------------+---------+------+-----+---------+-------+\n",
       "|   pclass_1   | int(11) | YES  |     |   None  |       |\n",
       "|   pclass_2   | int(11) | YES  |     |   None  |       |\n",
       "|   pclass_3   | int(11) | YES  |     |   None  |       |\n",
       "|  sex_female  | int(11) | YES  |     |   None  |       |\n",
       "|   sex_male   | int(11) | YES  |     |   None  |       |\n",
       "|  embarked_c  | int(11) | YES  |     |   None  |       |\n",
       "|  embarked_q  | int(11) | YES  |     |   None  |       |\n",
       "|  embarked_s  | int(11) | YES  |     |   None  |       |\n",
       "| title_master | int(11) | YES  |     |   None  |       |\n",
       "|  title_misc  | int(11) | YES  |     |   None  |       |\n",
       "|  title_miss  | int(11) | YES  |     |   None  |       |\n",
       "|   title_mr   | int(11) | YES  |     |   None  |       |\n",
       "|  title_mrs   | int(11) | YES  |     |   None  |       |\n",
       "|   nosibsp    | int(11) | YES  |     |   None  |       |\n",
       "|   noparch    | int(11) | YES  |     |   None  |       |\n",
       "|  nullcabin   | int(11) | YES  |     |   None  |       |\n",
       "|  cabinalpha  | int(11) | YES  |     |   None  |       |\n",
       "|    family    | int(11) | YES  |     |   None  |       |\n",
       "|   isalone    | int(11) | YES  |     |   None  |       |\n",
       "|   ismother   | int(11) | YES  |     |   None  |       |\n",
       "|     age      |  float  | YES  |     |   None  |       |\n",
       "|   realfare   |  float  | YES  |     |   None  |       |\n",
       "|   survived   | int(11) | YES  |     |   None  |       |\n",
       "+--------------+---------+------+-----+---------+-------+"
      ]
     },
     "execution_count": 2,
     "metadata": {},
     "output_type": "execute_result"
    }
   ],
   "source": [
    "%%sqlflow\n",
    "describe titanic.train;"
   ]
  },
  {
   "cell_type": "code",
   "execution_count": 3,
   "metadata": {},
   "outputs": [
    {
     "data": {
      "text/plain": [
       "+----------+----------+----------+------------+----------+------------+------------+------------+--------------+------------+------------+----------+-----------+---------+---------+-----------+------------+--------+---------+----------+-----------+-----------+----------+\n",
       "| pclass_1 | pclass_2 | pclass_3 | sex_female | sex_male | embarked_c | embarked_q | embarked_s | title_master | title_misc | title_miss | title_mr | title_mrs | nosibsp | noparch | nullcabin | cabinalpha | family | isalone | ismother |    age    |  realfare | survived |\n",
       "+----------+----------+----------+------------+----------+------------+------------+------------+--------------+------------+------------+----------+-----------+---------+---------+-----------+------------+--------+---------+----------+-----------+-----------+----------+\n",
       "|    0     |    0     |    1     |     0      |    1     |     0      |     0      |     1      |      0       |     0      |     0      |    1     |     0     |    0    |    1    |     0     |     0      |   2    |    0    |    0     | -0.566355 | -0.538133 |    0     |\n",
       "+----------+----------+----------+------------+----------+------------+------------+------------+--------------+------------+------------+----------+-----------+---------+---------+-----------+------------+--------+---------+----------+-----------+-----------+----------+"
      ]
     },
     "execution_count": 3,
     "metadata": {},
     "output_type": "execute_result"
    }
   ],
   "source": [
    "%%sqlflow\n",
    "select *\n",
    "from titanic.train\n",
    "limit 1"
   ]
  },
  {
   "cell_type": "markdown",
   "metadata": {},
   "source": [
    "## Train\n",
    "Let's train a DNNClassifier model. This is a two-category model, we have set three hidden layers and the number of hidden layer units is 10, 40, 10. This can be done by specifying the training clause for SQLFlow's extended syntax.\n",
    "```\n",
    "TRAIN DNNClassifier\n",
    "WITH\n",
    "    model.n_classes = 2,\n",
    "    model.hidden_units = [10, 40, 10]\n",
    "```\n",
    "To specify the training data, we use standard SQL statements like ```SELECT * FROM titanic.train```.\n",
    "\n",
    "We can explicitly specify which column is used for features and which column is used for the label by writing\n",
    "\n",
    "```\n",
    "COLUMN pclass_1, pclass_2, pclass_3, sex_female, sex_male, embarked_c, embarked_q, embarked_s, title_master, title_misc, title_miss, title_mr, title_mrs, nosibsp, noparch, nullcabin, cabinalpha, family, isalone, ismother, age, realfare\n",
    "LABEL survived\n",
    "```\n",
    "   At the end of the training process, we save the trained DNN model into table `sqlflow_models.my_dnn_model` as follows:\n",
    "   \n",
    "```\n",
    "INTO sqlflow_models.my_dnn_model\n",
    "```\n",
    "\n",
    "Putting it all together, we have our first SQLFlow training statement. Users can manually set these parameters for model tuning."
   ]
  },
  {
   "cell_type": "code",
   "execution_count": 12,
   "metadata": {},
   "outputs": [
    {
     "name": "stdout",
     "output_type": "stream",
     "text": [
      "Evaluation result: {'accuracy': 0.8068182, 'accuracy_baseline': 0.64204544, 'auc': 0.87196237, 'auc_precision_recall': 0.83297527, 'average_loss': 0.43418568, 'label/mean': 0.35795453, 'loss': 0.43318582, 'precision': 0.75438595, 'prediction/mean': 0.37578171, 'recall': 0.6825397, 'global_step': 2400}\n",
      "\n",
      "Done training\n",
      "\n"
     ]
    }
   ],
   "source": [
    "%%sqlflow\n",
    "SELECT *\n",
    "FROM titanic.train\n",
    "TRAIN DNNClassifier\n",
    "WITH\n",
    "  model.n_classes = 2,\n",
    "  model.hidden_units = [10, 40, 10],\n",
    "  train.epoch = 200,\n",
    "  train.batch_size = 64\n",
    "COLUMN pclass_1, pclass_2, pclass_3, sex_female, sex_male, embarked_c, embarked_q, embarked_s, title_master, title_misc, title_miss, title_mr, title_mrs, nosibsp, noparch, nullcabin, cabinalpha, family, isalone, ismother, age, realfare\n",
    "LABEL survived\n",
    "INTO sqlflow_models.my_dnn_model;"
   ]
  },
  {
   "cell_type": "markdown",
   "metadata": {},
   "source": [
    "# Predict"
   ]
  },
  {
   "cell_type": "markdown",
   "metadata": {},
   "source": [
    "SQLFlow also supports prediction out-of-the-box.\n",
    "\n",
    "To specify the prediction data, we use standard SQL statements like \n",
    "\n",
    "```\n",
    "SELECT * FROM titanic.test.\n",
    "```\n",
    "\n",
    "Say we want the model, previously stored at sqlflow_models.my_dnn_model, to read the prediction data and write the predicted result into table titanic.predict column Survived. We can write the following SQLFlow prediction statement.\n"
   ]
  },
  {
   "cell_type": "code",
   "execution_count": 13,
   "metadata": {},
   "outputs": [
    {
     "data": {
      "text/plain": [
       "+----------+----------+----------+------------+----------+------------+------------+------------+--------------+------------+------------+----------+-----------+---------+---------+-----------+------------+--------+---------+----------+----------+-----------+----------+\n",
       "| pclass_1 | pclass_2 | pclass_3 | sex_female | sex_male | embarked_c | embarked_q | embarked_s | title_master | title_misc | title_miss | title_mr | title_mrs | nosibsp | noparch | nullcabin | cabinalpha | family | isalone | ismother |   age    |  realfare | survived |\n",
       "+----------+----------+----------+------------+----------+------------+------------+------------+--------------+------------+------------+----------+-----------+---------+---------+-----------+------------+--------+---------+----------+----------+-----------+----------+\n",
       "|    0     |    0     |    1     |     0      |    1     |     0      |     1      |     0      |      0       |     0      |     0      |    1     |     0     |    1    |    1    |     0     |     0      |   1    |    1    |    0     | 0.329966 | -0.548451 |    0     |\n",
       "+----------+----------+----------+------------+----------+------------+------------+------------+--------------+------------+------------+----------+-----------+---------+---------+-----------+------------+--------+---------+----------+----------+-----------+----------+"
      ]
     },
     "execution_count": 13,
     "metadata": {},
     "output_type": "execute_result"
    }
   ],
   "source": [
    "%%sqlflow\n",
    "select *\n",
    "from titanic.test\n",
    "limit 1"
   ]
  },
  {
   "cell_type": "code",
   "execution_count": 14,
   "metadata": {},
   "outputs": [
    {
     "name": "stdout",
     "output_type": "stream",
     "text": [
      "Done predicting. Predict table : titanic.predict\n",
      "\n"
     ]
    }
   ],
   "source": [
    "%%sqlflow\n",
    "SELECT *\n",
    "FROM titanic.test\n",
    "predict titanic.predict.survived\n",
    "USING sqlflow_models.my_dnn_model;"
   ]
  },
  {
   "cell_type": "code",
   "execution_count": 15,
   "metadata": {},
   "outputs": [
    {
     "data": {
      "text/plain": [
       "+----------+----------+----------+------------+----------+------------+------------+------------+--------------+------------+------------+----------+-----------+---------+---------+-----------+------------+--------+---------+----------+-----------+-----------+----------+\n",
       "| pclass_1 | pclass_2 | pclass_3 | sex_female | sex_male | embarked_c | embarked_q | embarked_s | title_master | title_misc | title_miss | title_mr | title_mrs | nosibsp | noparch | nullcabin | cabinalpha | family | isalone | ismother |    age    |  realfare | survived |\n",
       "+----------+----------+----------+------------+----------+------------+------------+------------+--------------+------------+------------+----------+-----------+---------+---------+-----------+------------+--------+---------+----------+-----------+-----------+----------+\n",
       "|    0     |    0     |    1     |     0      |    1     |     0      |     1      |     0      |      0       |     0      |     0      |    1     |     0     |    1    |    1    |     0     |     0      |   1    |    1    |    0     |  0.329966 | -0.548451 |    0     |\n",
       "|    0     |    0     |    1     |     1      |    0     |     0      |     0      |     1      |      0       |     0      |     0      |    0     |     1     |    0    |    1    |     0     |     0      |   2    |    0    |    0     |  1.28883  | -0.609799 |    0     |\n",
       "|    0     |    1     |    0     |     0      |    1     |     0      |     1      |     0      |      0       |     0      |     0      |    1     |     0     |    1    |    1    |     0     |     0      |   1    |    1    |    0     |  2.43946  | -0.410965 |    1     |\n",
       "|    0     |    0     |    1     |     0      |    1     |     0      |     0      |     1      |      0       |     0      |     0      |    1     |     0     |    1    |    1    |     0     |     0      |   1    |    1    |    0     |  -0.24535 |  -0.4868  |    0     |\n",
       "|    0     |    0     |    1     |     1      |    0     |     0      |     0      |     1      |      0       |     0      |     0      |    0     |     1     |    0    |    0    |     0     |     0      |   3    |    0    |    1     | -0.628894 | -0.673149 |    0     |\n",
       "+----------+----------+----------+------------+----------+------------+------------+------------+--------------+------------+------------+----------+-----------+---------+---------+-----------+------------+--------+---------+----------+-----------+-----------+----------+"
      ]
     },
     "execution_count": 15,
     "metadata": {},
     "output_type": "execute_result"
    }
   ],
   "source": [
    "%%sqlflow\n",
    "SELECT *\n",
    "FROM titanic.predict\n",
    "limit 5;"
   ]
  },
  {
   "cell_type": "code",
   "execution_count": null,
   "metadata": {},
   "outputs": [],
   "source": []
  }
 ],
 "metadata": {
  "kernelspec": {
   "display_name": "Python 3",
   "language": "python",
   "name": "python3"
  },
  "language_info": {
   "codemirror_mode": {
    "name": "ipython",
    "version": 3
   },
   "file_extension": ".py",
   "mimetype": "text/x-python",
   "name": "python",
   "nbconvert_exporter": "python",
   "pygments_lexer": "ipython3",
   "version": "3.7.3"
  }
 },
 "nbformat": 4,
 "nbformat_minor": 2
}
