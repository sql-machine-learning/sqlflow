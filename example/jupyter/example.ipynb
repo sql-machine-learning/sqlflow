{
 "cells": [
  {
   "cell_type": "code",
   "execution_count": null,
   "metadata": {},
   "outputs": [],
   "source": [
    "%reload_ext sqlflow.magic"
   ]
  },
  {
   "cell_type": "code",
   "execution_count": null,
   "metadata": {},
   "outputs": [],
   "source": [
    "%%sqlflow\n",
    "show databases;"
   ]
  },
  {
   "cell_type": "code",
   "execution_count": null,
   "metadata": {},
   "outputs": [],
   "source": [
    "%%sqlflow\n",
    "select *\n",
    "from iris.train\n",
    "limit 1"
   ]
  },
  {
   "cell_type": "code",
   "execution_count": null,
   "metadata": {},
   "outputs": [],
   "source": [
    "%%sqlflow\n",
    "SELECT *\n",
    "FROM iris.train\n",
    "TRAIN DNNClassifier\n",
    "WITH\n",
    "  model.n_classes = 3,\n",
    "  model.hidden_units = [10, 20]\n",
    "COLUMN sepal_length, sepal_width, petal_length, petal_width\n",
    "LABEL class\n",
    "INTO sqlflow_models.my_dnn_model;"
   ]
  },
  {
   "cell_type": "code",
   "execution_count": null,
   "metadata": {},
   "outputs": [],
   "source": [
    "%%sqlflow\n",
    "SELECT *\n",
    "FROM iris.test\n",
    "predict iris.predict.class\n",
    "USING sqlflow_models.my_dnn_model;"
   ]
  },
  {
   "cell_type": "code",
   "execution_count": null,
   "metadata": {},
   "outputs": [],
   "source": [
    "%%sqlflow\n",
    "SELECT *\n",
    "FROM iris.predict\n",
    "LIMIT 5;"
   ]
  },
  {
   "cell_type": "code",
   "execution_count": null,
   "metadata": {},
   "outputs": [],
   "source": []
  }
 ],
 "metadata": {
  "kernelspec": {
   "display_name": "Python 3",
   "language": "python",
   "name": "python3"
  },
  "language_info": {
   "codemirror_mode": {
    "name": "ipython",
    "version": 3
   },
   "file_extension": ".py",
   "mimetype": "text/x-python",
   "name": "python",
   "nbconvert_exporter": "python",
   "pygments_lexer": "ipython3",
   "version": "3.7.2"
  }
 },
 "nbformat": 4,
 "nbformat_minor": 2
}
