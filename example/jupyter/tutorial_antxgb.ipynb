{
 "cells": [
  {
   "cell_type": "markdown",
   "metadata": {},
   "source": [
    "# Ant-XGBoost on sqlflow Tutorial\n",
    "This tutorial demonstrates how to\n",
    "1. train a XGBoost model for Iris flower classification\n",
    "2. auto-train a XGBoost model to fit boston housing price \n",
    "\n",
    "## The Dataset\n",
    "#### Iris\n",
    "The Iris data set contains four features and one label. The four features identify the botanical characteristics of individual Iris flowers. Each feature is stored as a single float number. The label indicates the class of individual Iris flowers. The label is stored as a integer and has possible value of 0, 1, 2.\n",
    "#### Boston housing price\n",
    "The Boston data frame has 506 rows and 14 columns.This data frame contains the following columns:\n",
    "- crim\n",
    "  - per capita crime rate by town.\n",
    "- zn\n",
    "  - proportion of residential land zoned for lots over 25,000 sq.ft.\n",
    "- indus\n",
    "  - proportion of non-retail business acres per town.\n",
    "- chas\n",
    "  - Charles River dummy variable (= 1 if tract bounds river; 0 otherwise).\n",
    "- nox\n",
    "  - nitrogen oxides concentration (parts per 10 million).\n",
    "- rm\n",
    "  - average number of rooms per dwelling.\n",
    "- age\n",
    "  - proportion of owner-occupied units built prior to 1940.\n",
    "- dis\n",
    "  - weighted mean of distances to five Boston employment centres.\n",
    "- rad\n",
    "  - index of accessibility to radial highways.\n",
    "- tax\n",
    "  - full-value property-tax rate per 10,000 dollar.\n",
    "- ptratio\n",
    "  - pupil-teacher ratio by town.\n",
    "- black\n",
    "  - 1000 * (Bk - 0.63) ^ 2 where Bk is the proportion of blacks by town.\n",
    "- lstat\n",
    "  - lower status of the population (percent).\n",
    "- medv(Label)\n",
    "  - median value of owner-occupied homes united by 1000 dollar.\n",
    "\n",
    "\n",
    "We have separated two datasets in train and test tables: `iris.train`, `iris.test`, `boston.train`, `boston.test`. We will be using them as training data and test data respectively.\n",
    "\n",
    "We can have a quick peek of the data by running the following standard SQL statements."
   ]
  },
  {
   "cell_type": "code",
   "execution_count": null,
   "metadata": {},
   "outputs": [],
   "source": [
    "%%sqlflow\n",
    "SELECT * FROM iris.train LIMIT 5;"
   ]
  },
  {
   "cell_type": "code",
   "execution_count": 1,
   "metadata": {},
   "outputs": [],
   "source": [
    "%%sqlflow\n",
    "SELECT * FROM boston.train LIMIT 5;"
   ]
  },
  {
   "cell_type": "markdown",
   "metadata": {},
   "source": [
    "## Iris Classification\n",
    "At first, let's train a xgboost model to classify Iris flower. Since there exists three kinds of Iris flowers, we use `multi:softprob` objective and set `num_class` to 3. We also configure tree depth, learning rate and number of iteration. All of above can be done by specifying the training clause for SQLFlow's extended syntax.\n",
    "\n",
    "```\n",
    "TRAIN xgboost.Estimator\n",
    "WITH\n",
    "    train.objective = \"multi:softprob\",\n",
    "    train.num_class = 3,\n",
    "    train.max_depth = 4,\n",
    "    train.eta = 0.5,\n",
    "    train.num_round = 10\n",
    "```\n",
    "\n",
    "To specify the training data, we use standard SQL statements like `SELECT * FROM iris.train`.\n",
    "\n",
    "We explicit specify which column is used for features and which column is used for the label by writing\n",
    "\n",
    "```\n",
    "COLUMN sepal_length, sepal_width, petal_length, petal_width\n",
    "LABEL class\n",
    "```\n",
    "At the end of the training process, we save the trained xgboost model into table `sqlflow_models.my_iris_xgboost_model` by writing\n",
    "```\n",
    "INTO sqlflow_models.my_iris_xgboost_model\n",
    "```\n",
    "\n",
    "Putting it all together, SQLFlow training statement of iris task is done."
   ]
  },
  {
   "cell_type": "code",
   "execution_count": 2,
   "metadata": {},
   "outputs": [],
   "source": [
    "%%sqlflow\n",
    "SELECT *\n",
    "FROM iris.train\n",
    "TRAIN xgboost.Estimator\n",
    "WITH\n",
    "    train.objective = \"multi:softprob\",\n",
    "    train.num_class = 3,\n",
    "    train.max_depth = 4,\n",
    "    train.eta = 0.5,\n",
    "    train.num_round = 10\n",
    "COLUMN sepal_length, sepal_width, petal_length, petal_width\n",
    "LABEL class\n",
    "INTO sqlflow_models.my_iris_xgboost_model;"
   ]
  },
  {
   "cell_type": "markdown",
   "metadata": {},
   "source": [
    "Secondly, let's do prediction on `iris.test`.\n",
    "\n",
    "To specify the prediction data, we use standard SQL statements like `SELECT * FROM iris.test`.\n",
    "\n",
    "Say we want the model, previously stored at sqlflow_models.my_iris_xgboost_model, to read the prediction data and write the predicted result into table `iris.predict` column `result`. \n",
    "\n",
    "We can add some supplementary outputs by setting `pred.attributes`.\n",
    "In this case, we append ground truth of prediction data with `pred.append_columns = [class]`.\n",
    "We also want to inspect probability information.\n",
    "So, we require probability of chosen class with `pred.prob_column = p`; require probability distribution with `pred.detail_column = dist`.\n",
    "\n",
    "We can write the following SQLFlow prediction statement."
   ]
  },
  {
   "cell_type": "code",
   "execution_count": 4,
   "metadata": {},
   "outputs": [],
   "source": [
    "%%sqlflow\n",
    "SELECT *\n",
    "FROM iris.test\n",
    "predict iris.predict.result\n",
    "WITH\n",
    "    pred.append_columns = [class],\n",
    "    pred.prob_column = p,\n",
    "    pred.detail_column = dist\n",
    "USING sqlflow_models.my_iris_xgboost_model;"
   ]
  },
  {
   "cell_type": "markdown",
   "metadata": {},
   "source": [
    "After the prediction, we can checkout the prediction result by"
   ]
  },
  {
   "cell_type": "code",
   "execution_count": 5,
   "metadata": {},
   "outputs": [],
   "source": [
    "%%sqlflow\n",
    "SELECT *\n",
    "FROM iris.predict\n",
    "LIMIT 5;"
   ]
  },
  {
   "cell_type": "markdown",
   "metadata": {},
   "source": [
    "## Fitting Boston Housing Price \n",
    "After iris demo, we have essential concepts about SQLFlow. For now, let's try another case with auto-train, additional feature of Ant-XGBoost.\n",
    "\n",
    "Since `medv` is continuous, we use `reg:squarederror` objective to fit it. With SQLFlow, we have an alternative approach to define xgboost objective; naming a specialized estimator. In this case, we specify `TRAIN xgboost.Regressor` instead of writing an objective explicitly.\n",
    "\n",
    "Above all, we get a quite concise training statement."
   ]
  },
  {
   "cell_type": "code",
   "execution_count": null,
   "metadata": {},
   "outputs": [],
   "source": [
    "%%sqlflow\n",
    "SELECT *\n",
    "FROM boston.train\n",
    "TRAIN xgboost.Regressor\n",
    "WITH\n",
    "    train.auto_train = true,\n",
    "    train.num_round = 50\n",
    "COLUMN crim, zn, indus, chas, nox, rm, age, dis, rad, tax, ptratio, b, lstat\n",
    "LABEL medv\n",
    "INTO sqlflow_models.my_boston_xgboost_model; "
   ]
  },
  {
   "cell_type": "markdown",
   "metadata": {},
   "source": [
    "Below is corresponding prediction statement, we append all columns of prediction data into result table."
   ]
  },
  {
   "cell_type": "code",
   "execution_count": 24,
   "metadata": {},
   "outputs": [],
   "source": [
    "%%sqlflow\n",
    "SELECT *\n",
    "FROM boston.test\n",
    "PREDICT boston.predict.score\n",
    "WITH\n",
    "    pred.append_columns = [crim, zn, indus, chas, nox, rm, age, dis, rad, tax, ptratio, b, lstat, medv]\n",
    "USING sqlflow_models.my_boston_xgboost_model;"
   ]
  },
  {
   "cell_type": "markdown",
   "metadata": {},
   "source": [
    "Let's have a glance at prediction results."
   ]
  },
  {
   "cell_type": "code",
   "execution_count": null,
   "metadata": {},
   "outputs": [],
   "source": [
    "%%sqlflow\n",
    "SELECT * FROM boston.predict;"
   ]
  }
 ],
 "metadata": {
  "kernelspec": {
   "display_name": "Python 3",
   "language": "python",
   "name": "python3"
  },
  "language_info": {
   "codemirror_mode": {
    "name": "ipython",
    "version": 3
   },
   "file_extension": ".py",
   "mimetype": "text/x-python",
   "name": "python",
   "nbconvert_exporter": "python",
   "pygments_lexer": "ipython3",
   "version": "3.6.7"
  }
 },
 "nbformat": 4,
 "nbformat_minor": 2
}
